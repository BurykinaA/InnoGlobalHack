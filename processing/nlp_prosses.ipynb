{
 "cells": [
  {
   "cell_type": "code",
   "execution_count": 1,
   "metadata": {},
   "outputs": [],
   "source": [
    "import numpy as np # linear algebra\n",
    "import pandas as pd # data processing, CSV file I/O (e.g. pd.read_csv)\n",
    "import os\n",
    "import cv2\n",
    "import matplotlib.pyplot as plt"
   ]
  },
  {
   "cell_type": "code",
   "execution_count": 13,
   "metadata": {},
   "outputs": [
    {
     "name": "stderr",
     "output_type": "stream",
     "text": [
      "100%|██████████| 8/8 [04:02<00:00, 30.25s/it] \n"
     ]
    }
   ],
   "source": [
    "import os\n",
    "import cv2\n",
    "from tqdm import tqdm \n",
    "\n",
    "dim = (128, 128)\n",
    "cropped_storage = []\n",
    "cropped_labels = []\n",
    "\n",
    "# Обход всех поддиректорий в D:/new_images\n",
    "for class_dir in tqdm(os.listdir('D:/new_images')):\n",
    "    class_dir_path = os.path.join('D:/new_images', class_dir)\n",
    "    \n",
    "    # Проверка, является ли элемент директорией\n",
    "    if os.path.isdir(class_dir_path):\n",
    "        # Обход всех файлов в поддиректории\n",
    "        for filename in os.listdir(class_dir_path):\n",
    "            file_path = os.path.join(class_dir_path, filename)\n",
    "            \n",
    "            # Проверка, является ли элемент файлом\n",
    "            if os.path.isfile(file_path):\n",
    "                # Чтение изображения\n",
    "                img = cv2.imread(file_path)\n",
    "                \n",
    "                # Изменение размера изображения\n",
    "                resized_img = cv2.resize(img, dim, interpolation=cv2.INTER_AREA)\n",
    "                \n",
    "                # Добавление изображения и метки класса в списки\n",
    "                cropped_storage.append(resized_img)\n",
    "                cropped_labels.append(int(class_dir))  # Предполагается, что имя директории - это номер класса\n"
   ]
  },
  {
   "cell_type": "code",
   "execution_count": 14,
   "metadata": {},
   "outputs": [],
   "source": [
    "X = np.asarray(cropped_storage)\n",
    "y = np.asarray(cropped_labels)\n",
    "np.savez('new_images11.npz', X, y)"
   ]
  },
  {
   "cell_type": "code",
   "execution_count": null,
   "metadata": {},
   "outputs": [],
   "source": []
  }
 ],
 "metadata": {
  "kernelspec": {
   "display_name": "base",
   "language": "python",
   "name": "python3"
  },
  "language_info": {
   "codemirror_mode": {
    "name": "ipython",
    "version": 3
   },
   "file_extension": ".py",
   "mimetype": "text/x-python",
   "name": "python",
   "nbconvert_exporter": "python",
   "pygments_lexer": "ipython3",
   "version": "3.10.9"
  },
  "orig_nbformat": 4
 },
 "nbformat": 4,
 "nbformat_minor": 2
}
